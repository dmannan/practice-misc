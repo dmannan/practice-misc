{
 "cells": [
  {
   "cell_type": "markdown",
   "metadata": {},
   "source": [
    "# Alex's version"
   ]
  },
  {
   "cell_type": "markdown",
   "metadata": {},
   "source": [
    "**Alex : I'm going to add any comments with my name, like this, and add code blocks.**\n",
    "\n",
    "**Alex : I also might do a bit more stuff than the prompts, to show you things**"
   ]
  },
  {
   "cell_type": "markdown",
   "metadata": {},
   "source": [
    "write code that:\n",
    "- prints out everything in each of these files\n",
    "- finds and prints the subject number of these files (e.g., 0025432) and session number (e.g, 5)\n",
    "- renames each file to `sub-#_ses-#.ssv` (edited) \n",
    "\n",
    "group all that code into functions and make it general, so that I could give you a new file and you could just run the same code on it"
   ]
  },
  {
   "cell_type": "markdown",
   "metadata": {},
   "source": [
    "## Question 1: Only printing the first two files since the code will be repeated"
   ]
  },
  {
   "cell_type": "code",
   "execution_count": 40,
   "metadata": {},
   "outputs": [],
   "source": [
    "# Alex : All imports generally go at the top of code\n",
    "\n",
    "import os, re\n",
    "import shutil\n",
    "\n",
    "# pathlib is really nice for working with files/directories\n",
    "from pathlib import Path"
   ]
  },
  {
   "cell_type": "code",
   "execution_count": 41,
   "metadata": {},
   "outputs": [],
   "source": [
    "# Alex : initiation code\n",
    "\n",
    "# Grab the directory we're storing files\n",
    "data_directory = Path.cwd().parent / \"data\"\n",
    "\n",
    "# It's always good to put checks for bugs in your code\n",
    "assert data_directory.exists()"
   ]
  },
  {
   "cell_type": "markdown",
   "metadata": {},
   "source": [
    "### Drishti"
   ]
  },
  {
   "cell_type": "markdown",
   "metadata": {},
   "source": [
    "**Alex : Good! Make sure to use the `with` statement when working with files:\n",
    "https://realpython.com/working-with-files-in-python/**"
   ]
  },
  {
   "cell_type": "code",
   "execution_count": 44,
   "metadata": {},
   "outputs": [],
   "source": [
    "#file1 = open('sub-0025432_ses-5_dwi_desikan_space-MNI152NLin6_res-2x2x2_measure-spatial-ds_adj.ssv', 'r')\n",
    "# file1.read()\n",
    "\n",
    "#file2 = open('sub-0025447_ses-4_dwi_desikan_space-MNI152NLin6_res-2x2x2_measure-spatial-ds_adj.ssv', 'r')\n",
    "# file2.read()"
   ]
  },
  {
   "cell_type": "markdown",
   "metadata": {},
   "source": [
    "### Alex"
   ]
  },
  {
   "cell_type": "markdown",
   "metadata": {},
   "source": [
    "- Prints the name of the file and the first 5 lines\n",
    "- f\": f-strings, super nice. https://realpython.com/python-f-strings/"
   ]
  },
  {
   "cell_type": "code",
   "execution_count": 48,
   "metadata": {},
   "outputs": [
    {
     "name": "stdout",
     "output_type": "stream",
     "text": [
      "File: sub-0025432_ses-5_dwi_desikan_space-MNI152NLin6_res-2x2x2_measure-spatial-ds_adj.ssv\n",
      "['1 2 124', '1 3 130', '1 4 272', '1 5 1484', '1 6 411'] \n",
      "\n",
      "File: sub-0025455_ses-1_dwi_desikan_space-MNI152NLin6_res-2x2x2_measure-spatial-ds_adj.ssv\n",
      "['1 2 98', '1 3 146', '1 4 154', '1 5 1135', '1 6 225'] \n",
      "\n",
      "File: sub-0025447_ses-4_dwi_desikan_space-MNI152NLin6_res-2x2x2_measure-spatial-ds_adj.ssv\n",
      "['1 2 135', '1 3 126', '1 4 296', '1 5 1079', '1 6 239'] \n",
      "\n"
     ]
    }
   ],
   "source": [
    "def print_first_five_lines(directory):\n",
    "    \"\"\"\n",
    "    Print the name of the file,\n",
    "    and the first five lines.\n",
    "    \"\"\"\n",
    "    for filename in data_directory.iterdir():\n",
    "        with filename.open() as f:\n",
    "            print(f\"File: {filename.name}\")\n",
    "            print(f.read().splitlines()[:5], '\\n')\n",
    "            \n",
    "print_first_five_lines(data_directory)"
   ]
  },
  {
   "cell_type": "markdown",
   "metadata": {},
   "source": [
    "## Question 2: finding the subject number and the session number"
   ]
  },
  {
   "cell_type": "markdown",
   "metadata": {},
   "source": [
    "### Drishti"
   ]
  },
  {
   "cell_type": "markdown",
   "metadata": {},
   "source": [
    "**Alex : Copying is fine, I'd just use `shutil.copy` unless there's a good reason to**"
   ]
  },
  {
   "cell_type": "code",
   "execution_count": 45,
   "metadata": {},
   "outputs": [],
   "source": [
    "# shutil.copy2('/Users/drishtimannan/Downloads/sub-0025432_ses-5_dwi_desikan_space-MNI152NLin6_res-2x2x2_measure-spatial-ds_adj.ssv', '.')\n",
    "# shutil.copy2('/Users/drishtimannan/Downloads/sub-0025447_ses-4_dwi_desikan_space-MNI152NLin6_res-2x2x2_measure-spatial-ds_adj.ssv', '.')\n",
    "# shutil.copy2('/Users/drishtimannan/Downloads/sub-0025455_ses-1_dwi_desikan_space-MNI152NLin6_res-2x2x2_measure-spatial-ds_adj.ssv', '.')\n",
    "\n",
    "# Alex : Here's what I'd do for the copying\n",
    "folder = '/Users/drishtimannan/Downloads/'\n",
    "for filename in os.listdir(folder):\n",
    "    if filename.endswith(\".ssv\"):\n",
    "        shutil.copy(filename, '.')"
   ]
  },
  {
   "cell_type": "markdown",
   "metadata": {},
   "source": [
    "**Alex : Perfect use of regex, nice job!**\n",
    "**Only comment is, function name should be `find_sub_ses`** (just by convention, function and variables names are lowercase_with_underscore)"
   ]
  },
  {
   "cell_type": "code",
   "execution_count": 57,
   "metadata": {},
   "outputs": [],
   "source": [
    "#filelist = os.listdir('.')\n",
    "def findSubSes(path):\n",
    "    for f_name in os.listdir(path):\n",
    "        if f_name.endswith('.ssv'):\n",
    "       \n",
    "            #result = re.findall(\"sub-......._ses-.\",f_name)\n",
    "            result = re.findall(r'sub-[0-9]+|ses-[0-9]+', f_name)\n",
    "            return(result)\n",
    "\n",
    "findSubSes('.')"
   ]
  },
  {
   "cell_type": "code",
   "execution_count": 72,
   "metadata": {},
   "outputs": [
    {
     "name": "stdout",
     "output_type": "stream",
     "text": [
      "['sub-0025432', 'ses-5']\n",
      "['sub-0025455', 'ses-1']\n",
      "['sub-0025447', 'ses-4']\n"
     ]
    }
   ],
   "source": [
    "for f_name in os.listdir('.'):\n",
    "    if f_name.endswith('.ssv'):\n",
    "        result = re.findall(r'sub-[0-9]+|ses-[0-9]+', f_name)\n",
    "        print(result)"
   ]
  },
  {
   "cell_type": "markdown",
   "metadata": {},
   "source": [
    "Drishti : I don't understand why the above function doesn't list ouputs of the three files but when i get rid of the function, the loops work (see below)\n",
    "\n",
    "**Alex : This is because you're returning the result at the end of the first loop. Functions stop when they see the \"return\" keyword, so:**\n",
    "1. You start looping through `os.listdir(path)\n",
    "2. You're currently in the loop for the first file\n",
    "3. You get a `result`, and return it\n",
    "4. Because you returned the result, the function breaks out of the loop, and you only see the results of the first file's loop."
   ]
  },
  {
   "cell_type": "markdown",
   "metadata": {},
   "source": [
    "### Alex"
   ]
  },
  {
   "cell_type": "markdown",
   "metadata": {},
   "source": [
    "Here's what I'd likely do.\n",
    "Honestly, your function is fine (and perhaps even better, since it's less verbose!), I just like using Path objects alot :)\n",
    "\n",
    "This is the function I'd use to store the data (e.g., now I have it as a list).\n",
    "If I wanted to only print, I'd just do `print(re.findall...)` and not return anything."
   ]
  },
  {
   "cell_type": "code",
   "execution_count": 56,
   "metadata": {},
   "outputs": [
    {
     "data": {
      "text/plain": [
       "[['sub-0025432', 'ses-5'], ['sub-0025455', 'ses-1'], ['sub-0025447', 'ses-4']]"
      ]
     },
     "execution_count": 56,
     "metadata": {},
     "output_type": "execute_result"
    }
   ],
   "source": [
    "def find_sub_ses(filepath):\n",
    "    # Converts filepaths from strings to pathlib.Path objects.\n",
    "    if not isinstance(filepath, Path):\n",
    "        filepath = Path(filepath)\n",
    "    \n",
    "    # At each loop, put the current result into out.\n",
    "    out = []\n",
    "    for filename in filepath.iterdir(): \n",
    "        if filename.suffix == '.ssv':\n",
    "            result = re.findall(r'sub-[0-9]+|ses-[0-9]+', str(filename))\n",
    "            out.append(result)\n",
    "\n",
    "    return out\n",
    "        \n",
    "find_sub_ses(data_directory)"
   ]
  },
  {
   "cell_type": "markdown",
   "metadata": {},
   "source": [
    "## Question 3: renames each file to sub-#_ses-#.ssv"
   ]
  },
  {
   "cell_type": "markdown",
   "metadata": {},
   "source": [
    "### Drishti"
   ]
  },
  {
   "cell_type": "markdown",
   "metadata": {},
   "source": [
    "**Alex : All good! Just forgot the underscore _**"
   ]
  },
  {
   "cell_type": "code",
   "execution_count": 73,
   "metadata": {},
   "outputs": [
    {
     "name": "stdout",
     "output_type": "stream",
     "text": [
      "['sub-0025432', 'ses-5']\n",
      "['sub-0025455', 'ses-1']\n",
      "['sub-0025447', 'ses-4']\n"
     ]
    }
   ],
   "source": [
    "#os.rename('first.zip', 'first_01.zip')\n",
    "for f_name in os.listdir('.'):\n",
    "    if f_name.endswith('.ssv'):\n",
    "        \n",
    "        result = re.findall(r'sub-[0-9]+|ses-[0-9]+', f_name)\n",
    "        print(result)\n",
    "        \n",
    "        os.rename(f_name, result[0]+result[1]+'.ssv')\n"
   ]
  },
  {
   "cell_type": "markdown",
   "metadata": {},
   "source": [
    "To make sure the files are renamed"
   ]
  },
  {
   "cell_type": "code",
   "execution_count": 74,
   "metadata": {},
   "outputs": [
    {
     "data": {
      "text/plain": [
       "['.DS_Store',\n",
       " 'sub-0025455ses-1.ssv',\n",
       " 'sub-0025432ses-5.ssv',\n",
       " '.ipynb_checkpoints',\n",
       " 'sub-0025447ses-4.ssv',\n",
       " 'Assignment1.ipynb']"
      ]
     },
     "execution_count": 74,
     "metadata": {},
     "output_type": "execute_result"
    }
   ],
   "source": [
    "os.listdir('.')"
   ]
  },
  {
   "cell_type": "markdown",
   "metadata": {},
   "source": [
    "### Alex"
   ]
  },
  {
   "cell_type": "markdown",
   "metadata": {},
   "source": [
    "Here's what I'd do.\n",
    "Pretty similar, just uses a feature called variable unpacking to grab `sub` and `ses`, and f-strings + Path objects to do the renaming."
   ]
  },
  {
   "cell_type": "code",
   "execution_count": 67,
   "metadata": {},
   "outputs": [],
   "source": [
    "for filename in data_directory.iterdir():\n",
    "    if filename.suffix == '.ssv':\n",
    "        result = re.findall(r'sub-[0-9]+|ses-[0-9]+', str(filename))\n",
    "        \n",
    "        # Fancy trick python can do\n",
    "        sub, ses = result[0], result[1]\n",
    "        \n",
    "        # Using f-strings and Path objects to make sure the files don't move around in the process of renaming.\n",
    "        os.rename(filename, f\"{filename.parent}/{sub}_{ses}.ssv\")"
   ]
  },
  {
   "cell_type": "markdown",
   "metadata": {},
   "source": [
    "# Special Bonus Round: It's nicer with classes!"
   ]
  },
  {
   "cell_type": "code",
   "execution_count": 99,
   "metadata": {},
   "outputs": [],
   "source": [
    "class DirectoryConverter:\n",
    "    def __init__(self, dirname):\n",
    "        self.directory = Path(dirname)\n",
    "        self.files = [filename for filename in self.directory.iterdir() \n",
    "                      if filename.suffix == '.ssv']\n",
    "        self.pattern = r'sub-[0-9]+|ses-[0-9]+'\n",
    "    \n",
    "    def print_first_five_lines(self):\n",
    "        \"\"\"\n",
    "        Print the name of the file,\n",
    "        and the first five lines.\n",
    "        \"\"\"\n",
    "        for filename in self.files:\n",
    "            with filename.open() as f:\n",
    "                print(f\"File: {filename.name}\")\n",
    "                print(f.read().splitlines()[:5], '\\n')\n",
    "                \n",
    "    def find_sub_ses(self, filename):\n",
    "        return re.findall(self.pattern, str(filename))\n",
    "    \n",
    "    def renamer(self, inverse=False):\n",
    "        for filename in self.files:\n",
    "            sub, ses = self.find_sub_ses(filename)\n",
    "            \n",
    "            # Using f-strings and Path objects\n",
    "            if inverse:\n",
    "                os.rename(filename, f\"{filename.parent}/{sub}_{ses}_dwi_desikan_space-MNI152NLin6_res-2x2x2_measure-spatial-ds_adj.ssv\")\n",
    "            else:\n",
    "                os.rename(filename, f\"{filename.parent}\")\n",
    "                       \n",
    "            # here, you would also update `self.files` accordingly."
   ]
  },
  {
   "cell_type": "markdown",
   "metadata": {},
   "source": [
    "write code that:\n",
    "- prints out everything in each of these files\n",
    "- finds and prints the subject number of these files (e.g., 0025432) and session number (e.g, 5)\n",
    "- renames each file to `sub-#_ses-#.ssv`"
   ]
  },
  {
   "cell_type": "code",
   "execution_count": 102,
   "metadata": {},
   "outputs": [
    {
     "name": "stdout",
     "output_type": "stream",
     "text": [
      "/Users/alex/Dropbox/Programming/Projects/others/practice-misc/data \n",
      "\n",
      "[PosixPath('/Users/alex/Dropbox/Programming/Projects/others/practice-misc/data/sub-0025432_ses-5_dwi_desikan_space-MNI152NLin6_res-2x2x2_measure-spatial-ds_adj.ssv'), PosixPath('/Users/alex/Dropbox/Programming/Projects/others/practice-misc/data/sub-0025455_ses-1_dwi_desikan_space-MNI152NLin6_res-2x2x2_measure-spatial-ds_adj.ssv'), PosixPath('/Users/alex/Dropbox/Programming/Projects/others/practice-misc/data/sub-0025447_ses-4_dwi_desikan_space-MNI152NLin6_res-2x2x2_measure-spatial-ds_adj.ssv')] \n",
      "\n",
      "File: sub-0025432_ses-5_dwi_desikan_space-MNI152NLin6_res-2x2x2_measure-spatial-ds_adj.ssv\n",
      "['1 2 124', '1 3 130', '1 4 272', '1 5 1484', '1 6 411'] \n",
      "\n",
      "File: sub-0025455_ses-1_dwi_desikan_space-MNI152NLin6_res-2x2x2_measure-spatial-ds_adj.ssv\n",
      "['1 2 98', '1 3 146', '1 4 154', '1 5 1135', '1 6 225'] \n",
      "\n",
      "File: sub-0025447_ses-4_dwi_desikan_space-MNI152NLin6_res-2x2x2_measure-spatial-ds_adj.ssv\n",
      "['1 2 135', '1 3 126', '1 4 296', '1 5 1079', '1 6 239'] \n",
      "\n",
      "None\n",
      "[['sub-0025432', 'ses-5'], ['sub-0025455', 'ses-1'], ['sub-0025447', 'ses-4']]\n"
     ]
    }
   ],
   "source": [
    "# Play with this code, and with the class above\n",
    "\n",
    "p = DirectoryConverter(data_directory)\n",
    "\n",
    "print(p.directory, '\\n')\n",
    "print(p.files, '\\n')\n",
    "print(p.print_first_five_lines())\n",
    "print([p.find_sub_ses(filename) for filename in p.directory.iterdir()])\n",
    "\n",
    "# Renaming will only work if the names are what they were originally,\n",
    "# So I put in an \"inverse\" flag, which renames back to what they were before.\n",
    "p.renamer\n",
    "p.renamer(inverse=True)"
   ]
  }
 ],
 "metadata": {
  "kernelspec": {
   "display_name": "Python 3",
   "language": "python",
   "name": "python3"
  },
  "language_info": {
   "codemirror_mode": {
    "name": "ipython",
    "version": 3
   },
   "file_extension": ".py",
   "mimetype": "text/x-python",
   "name": "python",
   "nbconvert_exporter": "python",
   "pygments_lexer": "ipython3",
   "version": "3.7.3"
  }
 },
 "nbformat": 4,
 "nbformat_minor": 2
}
